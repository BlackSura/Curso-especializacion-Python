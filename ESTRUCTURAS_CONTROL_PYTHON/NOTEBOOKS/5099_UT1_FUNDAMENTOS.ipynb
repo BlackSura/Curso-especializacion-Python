{
 "cells": [
  {
   "cell_type": "markdown",
   "metadata": {},
   "source": [
    "# Módulo 5099: Estructuras de Control en Python\n",
    "## UT1: Fundamentos de programación en Python y expresiones lógicas\n",
    "---\n",
    "**Duración:** 4 Semanas (8 horas lectivas)\n",
    "\n",
    "**Objetivos de la Unidad:**\n",
    "* Comprender la sintaxis básica del lenguaje Python.\n",
    "* Identificar y utilizar los tipos de datos fundamentales.\n",
    "* Declarar y manipular variables para almacenar información.\n",
    "* Realizar operaciones aritméticas y de comparación.\n",
    "* Construir expresiones lógicas para la toma de decisiones.\n",
    "* Crear programas sencillos que interactúen con el usuario.\n",
    "* Familiarizarse con el entorno de trabajo de los Jupyter Notebooks."
   ]
  },
  {
   "cell_type": "markdown",
   "metadata": {},
   "source": [
    "## Introducción a Jupyter Notebooks\n",
    "\n",
    "¡Bienvenido a Jupyter! Esta herramienta será nuestro laboratorio de pruebas durante el curso. Un Jupyter Notebook es un documento interactivo que te permite escribir y ejecutar código (como Python), visualizar los resultados, y al mismo tiempo, documentar todo con texto, imágenes y enlaces. Es increíblemente popular en el mundo del análisis de datos y la programación científica por su flexibilidad.\n",
    "\n",
    "### Características Principales:\n",
    "\n",
    "1.  **Celdas (Cells)**: El notebook está compuesto por celdas. Hay dos tipos principales que usaremos:\n",
    "    * **Celdas de Código**: Aquí es donde escribimos y ejecutamos nuestro código Python. Las reconocerás por el `In [ ]:` que aparece a su izquierda.\n",
    "    * **Celdas de Markdown**: Aquí es donde escribimos texto enriquecido (como este mismo bloque). Markdown es un lenguaje muy sencillo que permite añadir formato como **negritas**, *cursivas*, listas, enlaces, etc.\n",
    "\n",
    "2.  **Kernel**: Imagina el Kernel como el motor que está detrás del telón. Es el responsable de ejecutar el código que escribes en las celdas. Cuando ejecutas una celda de código, se la envías al Kernel, él la procesa y te devuelve el resultado.\n",
    "\n",
    "3.  **Interactividad**: Lo mejor de los notebooks es que son interactivos. Puedes ejecutar las celdas en cualquier orden, modificarlas y volver a ejecutarlas para ver cómo cambian los resultados. Esto hace que sea una herramienta fantástica para experimentar y aprender.\n",
    "\n",
    "### ¿Cómo se usa?\n",
    "\n",
    "* **Para ejecutar una celda**: Selecciónala haciendo clic en ella y luego presiona `Shift + Enter` (o `Ctrl + Enter` si no quieres moverte a la siguiente celda).\n",
    "* **Para cambiar el tipo de celda**: Ve al menú desplegable de la barra de herramientas y elige entre `Code` o `Markdown`.\n",
    "* **Para guardar**: ¡No te olvides de guardar tu trabajo! Puedes hacerlo desde el menú `File > Save` o con el atajo `Ctrl + S`."
   ]
  },
  {
   "cell_type": "markdown",
   "metadata": {},
   "source": [
    "--- \n",
    "### Semana 1-2: ¡Hola, Python! - El Primer Contacto\n",
    "\n",
    "Durante estas dos primeras semanas, nos familiarizaremos con el lenguaje y las herramientas que usaremos. El objetivo es perderle el miedo a la programación y entender cómo \"hablar\" con el ordenador a través de Python. 🐍"
   ]
  },
  {
   "cell_type": "markdown",
   "metadata": {},
   "source": [
    "#### 1.1 Variables: Las cajas del código\n",
    "\n",
    "Una variable es como una caja con una etiqueta donde guardamos información. Para crear una variable en Python, simplemente le damos un nombre (la etiqueta) y le asignamos un valor con el operador `=`."
   ]
  },
  {
   "cell_type": "code",
   "execution_count": 1,
   "metadata": {},
   "outputs": [
    {
     "name": "stdout",
     "output_type": "stream",
     "text": [
      "María\n",
      "28\n"
     ]
    }
   ],
   "source": [
    "# Asignamos el valor 28 a la variable 'edad'\n",
    "edad = 28\n",
    "\n",
    "# Asignamos el texto \"María\" a la variable 'nombre'\n",
    "nombre = \"María\"\n",
    "\n",
    "# Podemos mostrar el valor de una variable usando la función print()\n",
    "# La función print() es nuestra herramienta para ver qué está pasando en el código.\n",
    "print(nombre)\n",
    "print(edad)"
   ]
  },
  {
   "cell_type": "markdown",
   "metadata": {},
   "source": [
    "#### Definir variables con su tipo   \n",
    "\n",
    "Para definir una variable con su tipo, debemos escribir el nombre de la variable, dos puntos y el tipo de dato. En este ejemplo se puede ver de forma más clara:"
   ]
  },
  {
   "cell_type": "code",
   "execution_count": 2,
   "metadata": {},
   "outputs": [],
   "source": [
    "name: str = 'Alber'\n",
    "age: int = 33\n",
    "height: float = 1.74\n",
    "is_dev: bool = True"
   ]
  },
  {
   "cell_type": "markdown",
   "metadata": {},
   "source": [
    "#### 1.2 Tipos de Datos Fundamentales\n",
    "\n",
    "Python maneja diferentes tipos de información. Los más básicos son:\n",
    "\n",
    "* **Integer (`int`):** Números enteros, sin decimales. Ej: `28`, `-5`, `1000`.\n",
    "* **Float (`float`):** Números de punto flotante, es decir, con decimales. Ej: `3.14`, `-0.5`, `99.95`.\n",
    "* **String (`str`):** Cadenas de texto. Se escriben entre comillas simples (`' '`) o dobles (`\" \"`). Ej: `'Hola mundo'`, `\"Python es genial\"`.\n",
    "* **Boolean (`bool`):** Representa uno de dos valores: `True` (verdadero) o `False` (falso). Son la base de toda la lógica en programación.\n",
    "\n",
    "Podemos saber el tipo de una variable con la función `type()`."
   ]
  },
  {
   "cell_type": "code",
   "execution_count": 3,
   "metadata": {},
   "outputs": [
    {
     "name": "stdout",
     "output_type": "stream",
     "text": [
      "<class 'int'>\n",
      "<class 'float'>\n",
      "<class 'str'>\n",
      "<class 'bool'>\n"
     ]
    }
   ],
   "source": [
    "numero_de_alumnos = 25\n",
    "precio_cafe = 1.20\n",
    "mensaje_bienvenida = \"Bienvenidos a la UT1\"\n",
    "clase_empezada = True\n",
    "\n",
    "print(type(numero_de_alumnos))\n",
    "print(type(precio_cafe))\n",
    "print(type(mensaje_bienvenida))\n",
    "print(type(clase_empezada))"
   ]
  },
  {
   "cell_type": "markdown",
   "metadata": {},
   "source": [
    "**¡OJO!** El lenguaje Python usa *\"tipado dinámico\"*. Es decir, una variable podría tomar cualquier tipo de valor.    \n",
    "Desde la versión 3.5 de Python, se añadió la opción de poder anotar las variables para definir el tipo de dato y también en el retorno de una función aunque actualmente solo es descriptivo y si, por ejemplo, se define una variable de tipo **string** y se le asigna un valor numérico, no ocurrirá ningún error."
   ]
  },
  {
   "cell_type": "code",
   "execution_count": 2,
   "metadata": {},
   "outputs": [
    {
     "name": "stdout",
     "output_type": "stream",
     "text": [
      "María\n",
      "<class 'str'>\n",
      "42\n",
      "<class 'int'>\n"
     ]
    }
   ],
   "source": [
    "# Establecer el tipo de dato de una variable\n",
    "nombre: str = \"María\"\n",
    "print(nombre)\n",
    "print(type(nombre))\n",
    "# Cambiamos el contenido de la variable 'nombre' y su tipo de dato\n",
    "nombre = 42\n",
    "print(nombre)\n",
    "print(type(nombre)) "
   ]
  },
  {
   "cell_type": "markdown",
   "metadata": {},
   "source": [
    "#### Definir tipo de datos complejos   (anterior a version 3.9)\n",
    "Si queremos definir tipos de datos como **Tuple**, **Dict**, **List**, **Set**, **Collection** y otros tipos, es necesario importar la librería **typing** para poder usarlos, salvo que se utilice la versión 3.9 o superior de Python que ya incluye estos tipos:"
   ]
  },
  {
   "cell_type": "code",
   "execution_count": 4,
   "metadata": {},
   "outputs": [],
   "source": [
    "# Para versiones anteriores a la 3.9\n",
    "from typing import Tuple, Dict, List, Set\n",
    "\n",
    "tupla: Tuple = (0, 1, 2, 3)\n",
    "diccionario: Dict = {'name': 'Alber'}\n",
    "lista: List = [0, 1, 2, 3]\n",
    "conjunto: Set = {0, 1, 2, 3}"
   ]
  },
  {
   "cell_type": "markdown",
   "metadata": {},
   "source": [
    "#### 1.3 Operaciones Aritméticas Básicas\n",
    "\n",
    "Podemos usar Python como una potente calculadora. Los operadores son intuitivos."
   ]
  },
  {
   "cell_type": "code",
   "execution_count": 5,
   "metadata": {},
   "outputs": [
    {
     "name": "stdout",
     "output_type": "stream",
     "text": [
      "Suma: 19\n",
      "Resta: 11\n",
      "Multiplicación: 60\n",
      "División: 3.75\n",
      "División Entera: 3\n",
      "Resto (Módulo): 3\n",
      "Potencia: 50625\n"
     ]
    }
   ],
   "source": [
    "a = 15\n",
    "b = 4\n",
    "\n",
    "suma = a + b\n",
    "resta = a - b\n",
    "multiplicacion = a * b\n",
    "division = a / b\n",
    "division_entera = a // b  # Descarta la parte decimal\n",
    "resto = a % b             # Devuelve el resto de la división (muy útil para saber si un número es par)\n",
    "potencia = a ** b          # a elevado a b\n",
    "\n",
    "print(\"Suma:\", suma)\n",
    "print(\"Resta:\", resta)\n",
    "print(\"Multiplicación:\", multiplicacion)\n",
    "print(\"División:\", division)\n",
    "print(\"División Entera:\", division_entera)\n",
    "print(\"Resto (Módulo):\", resto)\n",
    "print(\"Potencia:\", potencia)"
   ]
  },
  {
   "cell_type": "markdown",
   "metadata": {},
   "source": [
    "--- \n",
    "### 🏋️‍♂️ Ejercicios Propuestos (Semanas 1-2)\n",
    "\n",
    "**Ejercicio 1: Calculadora de Área**  \n",
    "\n",
    "Crea dos variables, `base` y `altura`, para un rectángulo. Asigna los valores `10` y `5` respectivamente. Calcula el área (`base * altura`) y el perímetro (`2 * base + 2 * altura`) y guarda los resultados en dos nuevas variables. Finalmente, muestra los resultados por pantalla con un texto explicativo (ej: \"El área del rectángulo es: [resultado]\").\n",
    "\n",
    "**Ejercicio 2: Conversor de Moneda Simple**   \n",
    "\n",
    "Crea una variable `euros` con el valor `50`. Suponiendo que el tipo de cambio es `1.07` dólares por euro, calcula cuántos dólares son esos 50 euros y almacena el resultado en una variable `dolares`. Muestra el resultado final.\n",
    "\n",
    "**Ejercicio 3: Ficha Personal**   \n",
    "\n",
    "Crea tres variables: `nombre_completo`, `año_nacimiento` y `profesion`. Asigna tus propios datos. Muestra por pantalla una frase que combine estas tres variables de forma coherente."
   ]
  },
  {
   "cell_type": "code",
   "execution_count": 13,
   "metadata": {},
   "outputs": [
    {
     "name": "stdout",
     "output_type": "stream",
     "text": [
      "Área del rectángulo: 50 || Perímetro del rectángulo: 30\n",
      "--------------------------------------------------------------------------------\n",
      "50 euros son 53.5 dólares\n",
      "--------------------------------------------------------------------------------\n",
      "Me llamo Andrei Alexandru Trifan Anton, nací en el año 2000 y soy Programador.\n"
     ]
    }
   ],
   "source": [
    "#Ejercicio 1\n",
    "base = 10\n",
    "altura = 5\n",
    "area_rectangulo = base * altura\n",
    "perimetro_rectangulo = 2 * (base + altura)\n",
    "print(\"Área del rectángulo:\", area_rectangulo, \"|| Perímetro del rectángulo:\", perimetro_rectangulo)\n",
    "print(\"--------------------------------------------------------------------------------\")\n",
    "#Ejercicio 2\n",
    "euros = 50\n",
    "dolares = euros * 1.07\n",
    "print(f\"{euros} euros son {dolares} dólares\")\n",
    "print(\"--------------------------------------------------------------------------------\")\n",
    "#Ejercicio 3\n",
    "nombre_completo = \"Andrei Alexandru Trifan Anton\"\n",
    "año_nacimiento = 2000\n",
    "profesion = \"Programador\"\n",
    "print(f\"Me llamo {nombre_completo}, nací en el año {año_nacimiento} y soy {profesion}.\")"
   ]
  },
  {
   "cell_type": "markdown",
   "metadata": {},
   "source": [
    "--- \n",
    "### Semana 3-4: Operadores, Expresiones y la Primera Interacción\n",
    "\n",
    "Ahora que conocemos los fundamentos, vamos a profundizar en cómo Python evalúa condiciones y cómo podemos empezar a crear programas que se comuniquen con el usuario. 🗣️"
   ]
  },
  {
   "cell_type": "markdown",
   "metadata": {},
   "source": [
    "#### 2.1 Operadores de Comparación\n",
    "\n",
    "Estos operadores comparan dos valores y el resultado de la comparación es siempre un valor booleano (`True` o `False`). Son la base de las estructuras de control que veremos en la UT2.\n",
    "\n",
    "* `==` : Igual a\n",
    "* `!=` : Distinto de\n",
    "* `>`  : Mayor que\n",
    "* `<`  : Menor que\n",
    "* `>=` : Mayor o igual que\n",
    "* `<=` : Menor o igual que"
   ]
  },
  {
   "cell_type": "code",
   "execution_count": null,
   "metadata": {},
   "outputs": [],
   "source": [
    "nota_corte = 5.0\n",
    "mi_nota = 7.2\n",
    "\n",
    "aprobado = mi_nota >= nota_corte\n",
    "print('¿He aprobado?', aprobado)\n",
    "\n",
    "a = 10\n",
    "b = 10\n",
    "print('¿a es igual a b?', a == b)\n",
    "print('¿a es distinto de b?', a != b)"
   ]
  },
  {
   "cell_type": "markdown",
   "metadata": {},
   "source": [
    "#### 2.2 Operadores Lógicos\n",
    "\n",
    "Estos operadores nos permiten combinar varias expresiones booleanas para crear condiciones más complejas.\n",
    "\n",
    "* **`and`**: Devuelve `True` si **ambas** expresiones son verdaderas.\n",
    "* **`or`**: Devuelve `True` si **al menos una** de las expresiones es verdadera.\n",
    "* **`not`**: Invierte el valor booleano (si es `True` lo convierte en `False`, y viceversa)."
   ]
  },
  {
   "cell_type": "code",
   "execution_count": null,
   "metadata": {},
   "outputs": [],
   "source": [
    "edad = 25\n",
    "tiene_carnet = True\n",
    "\n",
    "# Para alquilar un coche necesitas ser mayor de 21 Y tener carnet\n",
    "puede_alquilar = (edad > 21) and (tiene_carnet == True)\n",
    "print(\"¿Puede alquilar el coche?\", puede_alquilar)\n",
    "\n",
    "dia_semana = \"domingo\"\n",
    "es_festivo = False\n",
    "\n",
    "# No se trabaja si es fin de semana O si es festivo\n",
    "no_se_trabaja = (dia_semana == \"sábado\") or (dia_semana == \"domingo\") or (es_festivo == True)\n",
    "print(\"¿Toca descansar?\", no_se_trabaja)\n",
    "\n",
    "# Negando una condición\n",
    "se_trabaja = not no_se_trabaja\n",
    "print(\"¿Toca trabajar?\", se_trabaja)"
   ]
  },
  {
   "cell_type": "markdown",
   "metadata": {},
   "source": [
    "#### 2.3 Entrada y Salida de Datos: `input()` y `print()`\n",
    "\n",
    "Ya conocemos `print()` para mostrar información. Ahora introducimos `input()` para solicitar información al usuario.\n",
    "\n",
    "**¡MUY IMPORTANTE!** La función `input()` **siempre** devuelve el dato como una cadena de texto (`str`). Si necesitamos usarlo como un número para hacer cálculos, debemos **convertirlo explícitamente** usando `int()` o `float()`."
   ]
  },
  {
   "cell_type": "code",
   "execution_count": 2,
   "metadata": {},
   "outputs": [
    {
     "name": "stdout",
     "output_type": "stream",
     "text": [
      "¡Hola, Andrei ! Encantado de conocerte.\n",
      "Dentro de 10 años, tendrás 38 años.\n"
     ]
    }
   ],
   "source": [
    "# Pedimos el nombre al usuario\n",
    "nombre_usuario = input(\"Por favor, introduce tu nombre: \")\n",
    "\n",
    "# Saludamos al usuario\n",
    "print(\"¡Hola,\", nombre_usuario, \"! Encantado de conocerte.\")\n",
    "\n",
    "# Pedimos la edad (y la convertimos a entero)\n",
    "edad_texto = input(\"¿Cuántos años tienes? \")\n",
    "edad_numero = int(edad_texto) # Aquí ocurre la conversión\n",
    "\n",
    "# Ahora ya podemos operar con la edad como un número\n",
    "print(\"Dentro de 10 años, tendrás\", edad_numero + 10, \"años.\")"
   ]
  },
  {
   "cell_type": "markdown",
   "metadata": {},
   "source": [
    "--- \n",
    "### 🏋️‍♂️ Ejercicios Propuestos (Semanas 3-4)\n",
    "\n",
    "**Ejercicio 1: ¿Mayor de Edad Interactivo?**   \n",
    "\n",
    "Pide al usuario su año de nacimiento usando `input()`. Calcula su edad aproximada y guárdala en una variable. Luego, crea una variable booleana llamada `es_mayor_de_edad` que sea `True` si la edad es mayor o igual a 18, y `False` en caso contrario. Finalmente, muestra un mensaje claro al usuario indicando si es mayor de edad o no (ej: \"¿Es mayor de edad?: True\").\n",
    "\n",
    "**Ejercicio 2: Calculadora de IMC (Índice de Masa Corporal) Interactiva**   \n",
    "\n",
    "Pide al usuario su peso en kg (usando `float()` para la conversión) y su altura en metros (también con `float()`). Calcula su IMC con la fórmula: `IMC = peso / (altura ** 2)`. Muestra por pantalla el IMC calculado con un mensaje explicativo.\n",
    "\n",
    "**Ejercicio 3: Verificador de Acceso**   \n",
    "\n",
    "Pide al usuario su edad (como número entero). Pide al usuario si es socio (puede responder 'si' o 'no'). Crea una variable booleana que sea `True` solo si el usuario tiene 18 años o más **Y** es socio. Muestra el resultado de esta variable."
   ]
  }
 ],
 "metadata": {
  "kernelspec": {
   "display_name": ".venv",
   "language": "python",
   "name": "python3"
  },
  "language_info": {
   "codemirror_mode": {
    "name": "ipython",
    "version": 3
   },
   "file_extension": ".py",
   "mimetype": "text/x-python",
   "name": "python",
   "nbconvert_exporter": "python",
   "pygments_lexer": "ipython3",
   "version": "3.11.9"
  }
 },
 "nbformat": 4,
 "nbformat_minor": 2
}
